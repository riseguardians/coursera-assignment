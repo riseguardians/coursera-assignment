{
 "cells": [
  {
   "cell_type": "markdown",
   "id": "92756a32-e288-4cb7-82fb-e4d2017e78a5",
   "metadata": {},
   "source": [
    "# Data Science Tools and Ecosystem"
   ]
  },
  {
   "cell_type": "markdown",
   "id": "0144d1a9-eb2d-48d7-ace0-ce694ff4972f",
   "metadata": {},
   "source": [
    "# In this notebook, Data Science Tools and Ecosystem are summarized."
   ]
  },
  {
   "cell_type": "markdown",
   "id": "600794cd-0f04-4d51-934e-95321b739422",
   "metadata": {},
   "source": [
    "# objectives:\n",
    "* Python\n",
    "* R\n",
    "* SQL\n",
    "* Java\n",
    "* Scala"
   ]
  },
  {
   "cell_type": "markdown",
   "id": "602d084f-4e73-4c14-aea7-e7ef5fc7c68b",
   "metadata": {},
   "source": [
    "# Some of the popular languages that Data Scientists use are:\n",
    "1. Python\n",
    "2. R\n",
    "3. SQL"
   ]
  },
  {
   "cell_type": "markdown",
   "id": "be53ace6-0d20-49e3-b7a2-d0ca0402d9cb",
   "metadata": {},
   "source": [
    "# Some of the commonly used libraries used by Data Scientists include:\n",
    "1. Numpy\n",
    "2. Pandas\n",
    "3. Matplotlib\n",
    "4. Tenser flow"
   ]
  },
  {
   "cell_type": "markdown",
   "id": "951840e5-4ea2-4678-966a-fdfebd3a8b6a",
   "metadata": {},
   "source": [
    "| Data Science tools |\n",
    "|-----------------------|\n",
    "| Jupyter Lab|\n",
    "| Data Lab |\n",
    "| R studio |"
   ]
  },
  {
   "cell_type": "markdown",
   "id": "b2efb032-2d7e-4363-813c-3b1d0fbafcd5",
   "metadata": {},
   "source": [
    "### Below are a few examples of evaluating arithmetic expressions in Python"
   ]
  },
  {
   "cell_type": "code",
   "execution_count": 1,
   "id": "18370f18-45ac-42fc-ae52-23279c619c3a",
   "metadata": {},
   "outputs": [
    {
     "data": {
      "text/plain": [
       "17"
      ]
     },
     "execution_count": 1,
     "metadata": {},
     "output_type": "execute_result"
    }
   ],
   "source": [
    "#This is simple arithmetic expression\n",
    "(3*4)+5"
   ]
  },
  {
   "cell_type": "code",
   "execution_count": 2,
   "id": "2f815b40-42d7-41dd-8afa-945d6ae06054",
   "metadata": {},
   "outputs": [
    {
     "data": {
      "text/plain": [
       "3.3333333333333335"
      ]
     },
     "execution_count": 2,
     "metadata": {},
     "output_type": "execute_result"
    }
   ],
   "source": [
    "# This will convert 200 minutes to hours by diving by 60.\n",
    "200/60"
   ]
  },
  {
   "cell_type": "markdown",
   "id": "dc29fecd-deb8-4f50-927c-6151ec2d728e",
   "metadata": {},
   "source": [
    "## Author:\n",
    "P Ganesha Murthy"
   ]
  },
  {
   "cell_type": "code",
   "execution_count": null,
   "id": "adfa0c1f-c317-4f8c-9882-0490db67f763",
   "metadata": {},
   "outputs": [],
   "source": []
  }
 ],
 "metadata": {
  "kernelspec": {
   "display_name": "Python 3 (ipykernel)",
   "language": "python",
   "name": "python3"
  },
  "language_info": {
   "codemirror_mode": {
    "name": "ipython",
    "version": 3
   },
   "file_extension": ".py",
   "mimetype": "text/x-python",
   "name": "python",
   "nbconvert_exporter": "python",
   "pygments_lexer": "ipython3",
   "version": "3.11.5"
  }
 },
 "nbformat": 4,
 "nbformat_minor": 5
}
